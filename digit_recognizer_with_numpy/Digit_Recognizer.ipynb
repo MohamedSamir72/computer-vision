{
  "cells": [
    {
      "cell_type": "markdown",
      "metadata": {
        "id": "fy33BhKORK5Q"
      },
      "source": [
        "### Build the neural network can recognize digits\n",
        "## Let's first import all the packages\n",
        "\n",
        "*   tensorflow to get MNIST dataset from keras\n",
        "*   numpy to compute all vectors\n",
        "*   matplotlib to interface with images\n",
        "\n"
      ]
    },
    {
      "cell_type": "code",
      "execution_count": null,
      "metadata": {
        "id": "sC0IHi8qRFrK"
      },
      "outputs": [],
      "source": [
        "import tensorflow as tf\n",
        "from tensorflow import keras\n",
        "import numpy as np\n",
        "from matplotlib import pyplot as plt"
      ]
    },
    {
      "cell_type": "markdown",
      "metadata": {
        "id": "FilWtfii4lD1"
      },
      "source": [
        "##### Load the dataset\n",
        "\n",
        "##### x -> images\n",
        "##### y -> labels"
      ]
    },
    {
      "cell_type": "code",
      "execution_count": null,
      "metadata": {
        "colab": {
          "base_uri": "https://localhost:8080/"
        },
        "id": "Y1pg07LHitOL",
        "outputId": "1f45fcff-7717-49c1-eb34-f91f012e1064"
      },
      "outputs": [
        {
          "output_type": "stream",
          "name": "stdout",
          "text": [
            "Downloading data from https://storage.googleapis.com/tensorflow/tf-keras-datasets/mnist.npz\n",
            "11490434/11490434 [==============================] - 1s 0us/step\n"
          ]
        }
      ],
      "source": [
        "data = tf.keras.datasets.mnist\n",
        "\n",
        "(x_train, y_train), (x_test, y_test) = data.load_data()"
      ]
    },
    {
      "cell_type": "markdown",
      "metadata": {
        "id": "bXdRKfTn5jZm"
      },
      "source": [
        "##### Reshape the training data and test data\n",
        "##### Flattened the data"
      ]
    },
    {
      "cell_type": "code",
      "execution_count": null,
      "metadata": {
        "id": "I0Ma0Lw-jX3A"
      },
      "outputs": [],
      "source": [
        "x_train = x_train.reshape(x_train.shape[0], -1).T\n",
        "x_test = x_test.reshape(x_test.shape[0], -1).T\n",
        "\n",
        "x_train = x_train / 255\n",
        "x_test = x_test / 255"
      ]
    },
    {
      "cell_type": "code",
      "execution_count": null,
      "metadata": {
        "colab": {
          "base_uri": "https://localhost:8080/"
        },
        "id": "9ZZJ1wu3jhZr",
        "outputId": "557fa864-4118-4adb-92e8-381828f8f7ba"
      },
      "outputs": [
        {
          "output_type": "stream",
          "name": "stdout",
          "text": [
            "(784, 60000)\n",
            "(60000,)\n"
          ]
        }
      ],
      "source": [
        "print(x_train.shape)\n",
        "print(y_train.shape)"
      ]
    },
    {
      "cell_type": "markdown",
      "metadata": {
        "id": "VoRVWAuN2O3W"
      },
      "source": [
        "##Defining the neural network structure\n",
        "####By intialize: three variables:\n",
        "#####the size of input layer   (num_x)\n",
        "#####the size of hidder layer  (num_h)\n",
        "#####the size of output layer  (num_y)"
      ]
    },
    {
      "cell_type": "code",
      "execution_count": null,
      "metadata": {
        "id": "0qayN1Fv3kix"
      },
      "outputs": [],
      "source": [
        "m = x_train.shape[1]\n",
        "num_x = x_train.shape[0]\n",
        "num_h = 10\n",
        "num_y = 10\n"
      ]
    },
    {
      "cell_type": "markdown",
      "metadata": {
        "id": "a0M_YJro7Cf7"
      },
      "source": [
        "#### Initialization the parameters (W, b)"
      ]
    },
    {
      "cell_type": "code",
      "execution_count": null,
      "metadata": {
        "id": "8--yh5jfl7sr"
      },
      "outputs": [],
      "source": [
        "def initialize_params(num_x, num_h, num_y):\n",
        "  W1 = np.random.randn(num_h, num_x)\n",
        "  b1 = np.zeros((num_h, 1))\n",
        "  W2 = np.random.randn(num_y, num_h)\n",
        "  b2 = np.zeros((num_h, 1))\n",
        "\n",
        "  return W1, b1, W2, b2"
      ]
    },
    {
      "cell_type": "markdown",
      "metadata": {
        "id": "9SP6Q33n7g4A"
      },
      "source": [
        "#### The activation functions"
      ]
    },
    {
      "cell_type": "code",
      "execution_count": null,
      "metadata": {
        "id": "ChsQJuXj7mGA"
      },
      "outputs": [],
      "source": [
        "def ReLU(Z):\n",
        "  return np.maximum(Z, 0)\n",
        "\n",
        "def softmax(Z):\n",
        "  return np.exp(Z) / sum(np.exp(Z))\n",
        "\n",
        "def deriv_ReLU(Z):\n",
        "  return Z > 0"
      ]
    },
    {
      "cell_type": "markdown",
      "metadata": {
        "id": "JepKcaEK7tAW"
      },
      "source": [
        "#### Forward propagation"
      ]
    },
    {
      "cell_type": "code",
      "execution_count": null,
      "metadata": {
        "id": "6TsKsMln7zJ4"
      },
      "outputs": [],
      "source": [
        "def forward_prop(X, W1, b1, W2, b2):\n",
        "  Z1 = np.dot(W1, X) + b1\n",
        "  A1 = ReLU(Z1)\n",
        "  Z2 = np.dot(W2, A1) + b2\n",
        "  A2 = softmax(Z2)\n",
        "\n",
        "  return Z1, A1, Z2, A2"
      ]
    },
    {
      "cell_type": "markdown",
      "metadata": {
        "id": "KbPFVrqDnTvz"
      },
      "source": [
        "#### one_hot function\n"
      ]
    },
    {
      "cell_type": "code",
      "execution_count": null,
      "metadata": {
        "id": "A8xX7rnPnYj7"
      },
      "outputs": [],
      "source": [
        "def one_hot(Y):\n",
        "  one_hot_Y = np.zeros((Y.size, Y.max() + 1))\n",
        "  one_hot_Y[np.arange(Y.size), Y] = 1\n",
        "  one_hot_Y = one_hot_Y.T\n",
        "\n",
        "  return one_hot_Y"
      ]
    },
    {
      "cell_type": "markdown",
      "metadata": {
        "id": "Sy9lQw6283Uk"
      },
      "source": [
        "#### Backpropagation"
      ]
    },
    {
      "cell_type": "code",
      "execution_count": null,
      "metadata": {
        "id": "ClzzW61V85n_"
      },
      "outputs": [],
      "source": [
        "def back_prop(W1, b1, W2, b2, Z1, A1, Z2, A2, X, Y, m):\n",
        "\n",
        "  one_hot_Y = one_hot(Y)\n",
        "\n",
        "  dZ2 = A2 - one_hot_Y\n",
        "  dW2 = (1/m) * np.dot(dZ2, A1.T)\n",
        "  db2 = (1/m) * np.sum(dZ2, axis=1, keepdims=True)\n",
        "\n",
        "  dZ1 = np.dot(W2.T, dZ2) * deriv_ReLU(Z1)\n",
        "  dW1 = (1/m) * np.dot(dZ1, X.T)\n",
        "  db1 = (1/m) * np.sum(dZ1, axis=1, keepdims=True)\n",
        "\n",
        "  return dW1, db1, dW2, db2"
      ]
    },
    {
      "cell_type": "markdown",
      "metadata": {
        "id": "hhN8oI9c75dA"
      },
      "source": [
        "#### Update parameters"
      ]
    },
    {
      "cell_type": "code",
      "execution_count": null,
      "metadata": {
        "id": "OCS5FZRZ87AZ"
      },
      "outputs": [],
      "source": [
        "def update_params(W1, b1, W2, b2, dW1, db1, dW2, db2, learning_rate):\n",
        "  W1 = W1 - (learning_rate * dW1)\n",
        "  b1 = b1 - (learning_rate * db1)\n",
        "  W2 = W2 - (learning_rate * dW2)\n",
        "  b2 = b2 - (learning_rate * db2)\n",
        "\n",
        "  return W1, b1, W2, b2"
      ]
    },
    {
      "cell_type": "markdown",
      "metadata": {
        "id": "8KAySR-2UEaC"
      },
      "source": [
        "#### Prediction\n",
        "#### Accuracy"
      ]
    },
    {
      "cell_type": "code",
      "execution_count": null,
      "metadata": {
        "id": "RjBQWzjpUEaD"
      },
      "outputs": [],
      "source": [
        "def get_predictoins(A2):\n",
        "  return np.argmax(A2, 0)\n",
        "\n",
        "def get_accuracy(predictions, Y):\n",
        "  print(f\"Predictions:  {predictions}\")\n",
        "  print(f\"Labels:       {Y}\")\n",
        "\n",
        "  return np.mean(predictions == Y)"
      ]
    },
    {
      "cell_type": "markdown",
      "metadata": {
        "id": "1qSFoqzvUEaD"
      },
      "source": [
        "#### Gradient Descent"
      ]
    },
    {
      "cell_type": "code",
      "execution_count": null,
      "metadata": {
        "id": "N5MnqL31UEaf"
      },
      "outputs": [],
      "source": [
        "def gradient_descent(X, Y, iterations, learning_rate):\n",
        "  W1, b1, W2, b2 = initialize_params(num_x, num_h, num_y)\n",
        "\n",
        "  for i in range(iterations+1):\n",
        "    Z1, A1, Z2, A2 = forward_prop(X, W1, b1, W2, b2)\n",
        "\n",
        "    dW1, db1, dW2, db2 = back_prop(W1, b1, W2, b2, Z1, A1, Z2, A2, X, Y, m)\n",
        "\n",
        "    W1, b1, W2, b2 = update_params(W1, b1, W2, b2, dW1, db1, dW2, db2, learning_rate)\n",
        "\n",
        "    if i % 50 == 0:\n",
        "      print(f\"Iteration: {i}\")\n",
        "\n",
        "      prediction = get_predictoins(A2)\n",
        "      accuracy = round(get_accuracy(prediction, Y) * 100, 3)\n",
        "      print(f\"Accuracy: {accuracy}%\")\n",
        "      print(\"###############################\")\n",
        "\n",
        "  return W1, b1, W2, b2"
      ]
    },
    {
      "cell_type": "code",
      "execution_count": null,
      "metadata": {
        "colab": {
          "base_uri": "https://localhost:8080/"
        },
        "id": "W2kfLqVaVcPD",
        "outputId": "6b0491da-5641-4fb6-a463-bec93cc2792d"
      },
      "outputs": [
        {
          "output_type": "stream",
          "name": "stdout",
          "text": [
            "Iteration: 0\n",
            "Predictions:  [4 4 5 ... 9 4 9]\n",
            "Labels:       [5 0 4 ... 5 6 8]\n",
            "Accuracy: 9.793%\n",
            "###############################\n",
            "Iteration: 50\n",
            "Predictions:  [0 0 5 ... 0 6 8]\n",
            "Labels:       [5 0 4 ... 5 6 8]\n",
            "Accuracy: 29.502%\n",
            "###############################\n",
            "Iteration: 100\n",
            "Predictions:  [0 0 5 ... 0 6 8]\n",
            "Labels:       [5 0 4 ... 5 6 8]\n",
            "Accuracy: 34.828%\n",
            "###############################\n",
            "Iteration: 150\n",
            "Predictions:  [0 0 2 ... 0 6 8]\n",
            "Labels:       [5 0 4 ... 5 6 8]\n",
            "Accuracy: 38.233%\n",
            "###############################\n",
            "Iteration: 200\n",
            "Predictions:  [0 0 2 ... 0 6 8]\n",
            "Labels:       [5 0 4 ... 5 6 8]\n",
            "Accuracy: 41.058%\n",
            "###############################\n",
            "Iteration: 250\n",
            "Predictions:  [0 0 2 ... 0 6 8]\n",
            "Labels:       [5 0 4 ... 5 6 8]\n",
            "Accuracy: 44.05%\n",
            "###############################\n",
            "Iteration: 300\n",
            "Predictions:  [0 0 2 ... 0 6 8]\n",
            "Labels:       [5 0 4 ... 5 6 8]\n",
            "Accuracy: 46.437%\n",
            "###############################\n",
            "Iteration: 350\n",
            "Predictions:  [0 0 2 ... 0 6 8]\n",
            "Labels:       [5 0 4 ... 5 6 8]\n",
            "Accuracy: 48.843%\n",
            "###############################\n",
            "Iteration: 400\n",
            "Predictions:  [0 0 2 ... 0 6 8]\n",
            "Labels:       [5 0 4 ... 5 6 8]\n",
            "Accuracy: 50.592%\n",
            "###############################\n",
            "Iteration: 450\n",
            "Predictions:  [0 0 2 ... 0 6 8]\n",
            "Labels:       [5 0 4 ... 5 6 8]\n",
            "Accuracy: 52.242%\n",
            "###############################\n",
            "Iteration: 500\n",
            "Predictions:  [0 0 2 ... 0 6 8]\n",
            "Labels:       [5 0 4 ... 5 6 8]\n",
            "Accuracy: 53.61%\n",
            "###############################\n"
          ]
        }
      ],
      "source": [
        "W1, b1, W2, b2 = gradient_descent(x_train, y_train, 500, 0.1)"
      ]
    },
    {
      "cell_type": "markdown",
      "source": [
        "#### Testing the prediction"
      ],
      "metadata": {
        "id": "yfnOf0htkUi9"
      }
    },
    {
      "cell_type": "code",
      "source": [
        "def make_predictions(W1, b1, W2, b2, X):\n",
        "  Z1, A1, Z2, A2 = forward_prop(X, W1, b1, W2, b2)\n",
        "  predictions = get_predictoins(A2)\n",
        "\n",
        "  return predictions\n",
        "\n",
        "def test_prediction(index, W1, b1, W2, b2):\n",
        "  current_img = x_test[:, index, None]\n",
        "  prediction = make_predictions(W1, b1, W2, b2, x_test[:, index, None])\n",
        "  label = y_test[index]\n",
        "  print(\"Prediction: \", prediction)\n",
        "  print(\"Label: \", label)\n",
        "\n",
        "  current_img = current_img.reshape((28, 28)) * 255.\n",
        "  plt.imshow(current_img)\n",
        "  plt.gray()\n",
        "  plt.show()\n"
      ],
      "metadata": {
        "id": "bJ8ixObdgUmw"
      },
      "execution_count": null,
      "outputs": []
    },
    {
      "cell_type": "code",
      "source": [
        "test_prediction(50, W1, b1, W2, b2)\n",
        "test_prediction(14, W1, b1, W2, b2)"
      ],
      "metadata": {
        "colab": {
          "base_uri": "https://localhost:8080/",
          "height": 912
        },
        "id": "gEdh0PXHjGhl",
        "outputId": "b902126b-c78e-48e7-8c4e-8f2c86cb7095"
      },
      "execution_count": null,
      "outputs": [
        {
          "output_type": "stream",
          "name": "stdout",
          "text": [
            "Prediction:  [6]\n",
            "Label:  6\n"
          ]
        },
        {
          "output_type": "display_data",
          "data": {
            "text/plain": [
              "<Figure size 640x480 with 1 Axes>"
            ],
            "image/png": "[encoded data removed]"
          },
          "metadata": {}
        },
        {
          "output_type": "stream",
          "name": "stdout",
          "text": [
            "Prediction:  [1]\n",
            "Label:  1\n"
          ]
        },
        {
          "output_type": "display_data",
          "data": {
            "text/plain": [
              "<Figure size 640x480 with 1 Axes>"
            ],
            "image/png": "[encoded data removed]"
          },
          "metadata": {}
        }
      ]
    },
    {
      "cell_type": "code",
      "source": [],
      "metadata": {
        "id": "W-qiaQzjjH35"
      },
      "execution_count": null,
      "outputs": []
    }
  ],
  "metadata": {
    "colab": {
      "provenance": []
    },
    "kernelspec": {
      "display_name": "Python 3",
      "name": "python3"
    },
    "language_info": {
      "name": "python"
    }
  },
  "nbformat": 4,
  "nbformat_minor": 0
}